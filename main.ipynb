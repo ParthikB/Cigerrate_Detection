{
 "cells": [
  {
   "cell_type": "code",
   "execution_count": 3,
   "id": "3bbd3976-5869-40f8-8e29-7502e9b5aa29",
   "metadata": {},
   "outputs": [
    {
     "data": {
      "text/plain": [
       "device(type='cpu')"
      ]
     },
     "execution_count": 3,
     "metadata": {},
     "output_type": "execute_result"
    }
   ],
   "source": [
    "from NN import Model\n",
    "\n",
    "import torch\n",
    "import torch.nn as nn\n",
    "\n",
    "import torchvision\n",
    "import torchvision.transforms as transforms\n",
    "\n",
    "from torch.utils.data import Dataset, DataLoader\n",
    "\n",
    "from tqdm import tqdm\n",
    "\n",
    "device = torch.device('cuda' if torch.cuda.is_available() else 'cpu')\n",
    "device"
   ]
  },
  {
   "cell_type": "markdown",
   "id": "0efca614-8971-4e24-9e86-bb8a9b4e44ee",
   "metadata": {},
   "source": [
    "## Creating custom dataset"
   ]
  },
  {
   "cell_type": "code",
   "execution_count": 4,
   "id": "efa679ae-ba2f-4297-93f8-637e202ece65",
   "metadata": {},
   "outputs": [
    {
     "data": {
      "text/plain": [
       "500"
      ]
     },
     "execution_count": 4,
     "metadata": {},
     "output_type": "execute_result"
    }
   ],
   "source": [
    "TEST_DIR   = 'inputs/data/test'\n",
    "BATCH_SIZE = 1\n",
    "IMG_SIZE   = 128\n",
    "CLASSES    = ('non_smoking', 'smoking')\n",
    "\n",
    "TRANSFORM = transforms.Compose(\n",
    "                [transforms.ToTensor(), #0-255 > 0-1, numpy to tensor\n",
    "                transforms.Resize((IMG_SIZE, IMG_SIZE))\n",
    "                ,transforms.Normalize((0.5, 0.5, 0.5), (0.5, 0.5, 0.5))] #\n",
    "            )\n",
    "\n",
    "testloader = DataLoader(\n",
    "                  torchvision.datasets.ImageFolder(TEST_DIR, transform=TRANSFORM),\n",
    "                  batch_size=BATCH_SIZE, shuffle=False\n",
    "                  )\n",
    "\n",
    "test_size  = len(testloader)\n",
    "test_size"
   ]
  },
  {
   "cell_type": "code",
   "execution_count": 5,
   "id": "590bd199-1743-4663-a4a7-102a77846a5f",
   "metadata": {},
   "outputs": [
    {
     "data": {
      "text/plain": [
       "<All keys matched successfully>"
      ]
     },
     "execution_count": 5,
     "metadata": {},
     "output_type": "execute_result"
    }
   ],
   "source": [
    "NUM_CLASSES = len(CLASSES)\n",
    "\n",
    "model = Model(NUM_CLASSES).to(device)\n",
    "\n",
    "SAVED_MODEL_PATH = 'saved_models/using_testAcc0.78.model'\n",
    "model.load_state_dict(torch.load(SAVED_MODEL_PATH, map_location=torch.device(device)))"
   ]
  },
  {
   "cell_type": "code",
   "execution_count": 6,
   "id": "17eae781-0723-4ced-ad68-80af04dd37be",
   "metadata": {},
   "outputs": [
    {
     "name": "stderr",
     "output_type": "stream",
     "text": [
      "100%|████████████████████████████████████████████████████████████████████████████████| 500/500 [00:14<00:00, 34.39it/s]\n"
     ]
    }
   ],
   "source": [
    "tp, tn, fp, fn = 0, 0, 0, 0\n",
    "\n",
    "for img, label in tqdm(iter(testloader)):\n",
    "    output = model(img).data\n",
    "    out = torch.max(output, 1)[1]\n",
    "    pred = CLASSES[out]\n",
    "    \n",
    "    if   out == 1 and label == 1: tp += 1 # True +ve\n",
    "    elif out == 1 and label == 0: fp += 1 # False +ve\n",
    "    elif out == 0 and label == 1: fn += 1 # False -ve\n",
    "    elif out == 0 and label == 0: tn += 1 # True -ve\n",
    "    \n",
    "    # print(tp, tn, fp, fn, end='/r')"
   ]
  },
  {
   "cell_type": "code",
   "execution_count": 7,
   "id": "3bc408e9-39f7-4fa1-990d-fc3efba9d770",
   "metadata": {},
   "outputs": [
    {
     "name": "stdout",
     "output_type": "stream",
     "text": [
      "228 103 147 22\n"
     ]
    }
   ],
   "source": [
    "print(tp, tn, fp, fn)"
   ]
  },
  {
   "cell_type": "code",
   "execution_count": 8,
   "id": "ddf2240a-6467-4ce6-b05f-922dcedc5046",
   "metadata": {},
   "outputs": [],
   "source": [
    "t = len(testloader)/100"
   ]
  },
  {
   "cell_type": "code",
   "execution_count": 9,
   "id": "7d2b45dd-f1ec-4354-ae63-4e6cc094b819",
   "metadata": {},
   "outputs": [
    {
     "name": "stdout",
     "output_type": "stream",
     "text": [
      "45.6 20.6 29.4 4.4\n"
     ]
    }
   ],
   "source": [
    "print(tp/t, tn/t, fp/t, fn/t)"
   ]
  },
  {
   "cell_type": "code",
   "execution_count": null,
   "id": "fb4a458d-881a-4e8a-93ed-15c9aa1d3a6c",
   "metadata": {},
   "outputs": [],
   "source": []
  }
 ],
 "metadata": {
  "kernelspec": {
   "display_name": "Python 3 (ipykernel)",
   "language": "python",
   "name": "python3"
  },
  "language_info": {
   "codemirror_mode": {
    "name": "ipython",
    "version": 3
   },
   "file_extension": ".py",
   "mimetype": "text/x-python",
   "name": "python",
   "nbconvert_exporter": "python",
   "pygments_lexer": "ipython3",
   "version": "3.9.13"
  }
 },
 "nbformat": 4,
 "nbformat_minor": 5
}
