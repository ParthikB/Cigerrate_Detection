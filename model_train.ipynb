{
 "cells": [
  {
   "cell_type": "code",
   "execution_count": 1,
   "metadata": {
    "executionInfo": {
     "elapsed": 7,
     "status": "ok",
     "timestamp": 1669997998979,
     "user": {
      "displayName": "Parthik Bhandari",
      "userId": "10520118358423277181"
     },
     "user_tz": -330
    },
    "id": "oVWXcEyL_HBT"
   },
   "outputs": [],
   "source": [
    "# [WIP] Custom script to create label.csv dynamically\n",
    "\n",
    "# df = pd.DataFrame(columns = ['filename', 'class'])\n",
    "\n",
    "# for folder in os.listdir():\n",
    "#   # print(folder)\n",
    "#   temp_df = pd.DataFrame()\n",
    "#   temp_df['filename'] = os.listdir(folder)\n",
    "#   temp_df['class'] = folder\n",
    "#   print(11, temp_df.head())\n",
    "#   # df = pd.concat([df, temp_df], axis=1, join='inner')\n",
    "#   df.append(temp_df)\n",
    "#   print(df.head())"
   ]
  },
  {
   "cell_type": "markdown",
   "metadata": {
    "id": "pWR_xSMoNXN9"
   },
   "source": [
    "## Importing Libraries"
   ]
  },
  {
   "cell_type": "code",
   "execution_count": null,
   "metadata": {
    "colab": {
     "base_uri": "https://localhost:8080/"
    },
    "executionInfo": {
     "elapsed": 3901,
     "status": "ok",
     "timestamp": 1669998002874,
     "user": {
      "displayName": "Parthik Bhandari",
      "userId": "10520118358423277181"
     },
     "user_tz": -330
    },
    "id": "2AaxUCjhd1bi",
    "outputId": "5ad7e1f5-a954-495b-ef71-aaab8146d0bb"
   },
   "outputs": [],
   "source": [
    "from NN import Model\n",
    "\n",
    "import torch\n",
    "import torch.nn as nn\n",
    "import torch.nn.functional as F\n",
    "import torch.optim as optim\n",
    "from torch.autograd import Variable\n",
    "\n",
    "import torchvision\n",
    "import torchvision.transforms as transforms\n",
    "\n",
    "from torch.utils.data import Dataset, DataLoader\n",
    "from skimage import io\n",
    "\n",
    "import matplotlib.pyplot as plt\n",
    "import numpy as np\n",
    "\n",
    "from tqdm import tqdm\n",
    "import pandas as pd\n",
    "import os\n",
    "\n",
    "device = torch.device('cuda' if torch.cuda.is_available() else 'cpu')\n",
    "device"
   ]
  },
  {
   "cell_type": "markdown",
   "metadata": {
    "id": "wWKUdNQFNdq-"
   },
   "source": [
    "## Dataset creation"
   ]
  },
  {
   "cell_type": "markdown",
   "metadata": {
    "id": "IE0HSIxcNjRf"
   },
   "source": [
    "### 1. Custom Dataset"
   ]
  },
  {
   "cell_type": "code",
   "execution_count": 3,
   "metadata": {
    "executionInfo": {
     "elapsed": 3,
     "status": "ok",
     "timestamp": 1669998002875,
     "user": {
      "displayName": "Parthik Bhandari",
      "userId": "10520118358423277181"
     },
     "user_tz": -330
    },
    "id": "6Yn5ZiMbM7XT"
   },
   "outputs": [],
   "source": [
    "class customDataset(Dataset):\n",
    "  \n",
    "  def __init__(self, csv_file, root_dir, transform=None):\n",
    "    self.labels = pd.read_csv(csv_file, header=None).sample(frac=1)\n",
    "    self.root_dir = root_dir\n",
    "    self.transform = transform\n",
    "\n",
    "  def __len__(self):\n",
    "    return len(self.labels)\n",
    "  \n",
    "  def __getitem__(self, index):\n",
    "    img_path = os.path.join(self.root_dir, self.labels.iloc[index, 0])\n",
    "    image = io.imread(img_path)\n",
    "    y_label = torch.tensor(int(self.labels.iloc[index, 1]))\n",
    "\n",
    "    if self.transform:\n",
    "      image = self.transform(image)\n",
    "\n",
    "    return (image, y_label)\n",
    "\n",
    "\n",
    "def get_split(csv_file, train_percentage=0.8):\n",
    "  total = len(pd.read_csv(csv_file, header=None))\n",
    "  train = int(total*train_percentage)\n",
    "  test = total-train\n",
    "  return train, test"
   ]
  },
  {
   "cell_type": "code",
   "execution_count": 4,
   "metadata": {
    "executionInfo": {
     "elapsed": 2,
     "status": "ok",
     "timestamp": 1669998002875,
     "user": {
      "displayName": "Parthik Bhandari",
      "userId": "10520118358423277181"
     },
     "user_tz": -330
    },
    "id": "AyNchHFAM89E"
   },
   "outputs": [],
   "source": [
    "TRAIN_DIR  = '/content/drive/MyDrive/ColabNotebooks/restart/cigarette_detector/inputs/data/train'\n",
    "TEST_DIR   = '/content/drive/MyDrive/ColabNotebooks/restart/cigarette_detector/inputs/data/test'\n",
    "IMG_SIZE   = 128\n",
    "BATCH_SIZE = 32\n",
    "classes    = ('non_smoking', 'smoking')\n",
    "\n",
    "TRANSFORM  = transforms.Compose(\n",
    "                [transforms.ToTensor(), #0-255 > 0-1, numpy to tensor\n",
    "                transforms.Resize((IMG_SIZE, IMG_SIZE))\n",
    "                ,transforms.Normalize((0.5, 0.5, 0.5), (0.5, 0.5, 0.5))] #\n",
    "            )"
   ]
  },
  {
   "cell_type": "code",
   "execution_count": 5,
   "metadata": {
    "executionInfo": {
     "elapsed": 15320,
     "status": "ok",
     "timestamp": 1669998018193,
     "user": {
      "displayName": "Parthik Bhandari",
      "userId": "10520118358423277181"
     },
     "user_tz": -330
    },
    "id": "lD8g-OneX3tX"
   },
   "outputs": [],
   "source": [
    "trainloader = DataLoader(\n",
    "                  torchvision.datasets.ImageFolder(TRAIN_DIR, transform=TRANSFORM),\n",
    "                  batch_size=BATCH_SIZE, shuffle=True\n",
    "                  )\n",
    "\n",
    "testloader = DataLoader(\n",
    "                  torchvision.datasets.ImageFolder(TEST_DIR, transform=TRANSFORM),\n",
    "                  batch_size=BATCH_SIZE, shuffle=True\n",
    "                  )\n",
    "\n",
    "train_size = len(trainloader)*BATCH_SIZE\n",
    "test_size  = len(testloader)*BATCH_SIZE"
   ]
  },
  {
   "cell_type": "markdown",
   "metadata": {
    "id": "KE4SO080N1GU"
   },
   "source": [
    "#### Checking sample"
   ]
  },
  {
   "cell_type": "code",
   "execution_count": 7,
   "metadata": {
    "colab": {
     "base_uri": "https://localhost:8080/",
     "height": 256
    },
    "executionInfo": {
     "elapsed": 46078,
     "status": "ok",
     "timestamp": 1669998064263,
     "user": {
      "displayName": "Parthik Bhandari",
      "userId": "10520118358423277181"
     },
     "user_tz": -330
    },
    "id": "9-5eKXOxmq6V",
    "outputId": "770d1a2a-7c15-4ef7-830e-8e2d1a558cdb"
   },
   "outputs": [
    {
     "name": "stdout",
     "output_type": "stream",
     "text": [
      "['non_smoking', 'non_smoking', 'non_smoking', 'smoking', 'non_smoking', 'non_smoking', 'smoking', 'smoking', 'smoking', 'non_smoking', 'non_smoking', 'smoking', 'non_smoking', 'smoking', 'non_smoking', 'smoking', 'smoking', 'non_smoking', 'smoking', 'non_smoking', 'non_smoking', 'non_smoking', 'smoking', 'non_smoking', 'non_smoking', 'non_smoking', 'non_smoking', 'non_smoking', 'smoking', 'non_smoking', 'smoking', 'smoking']\n"
     ]
    },
    {
     "data": {
      "image/png": "[encoded data removed]",
      "text/plain": [
       "<Figure size 432x288 with 1 Axes>"
      ]
     },
     "metadata": {
      "needs_background": "light"
     },
     "output_type": "display_data"
    }
   ],
   "source": [
    "def imshow(img):\n",
    "  img = img/2 + 0.5 #un-normalize\n",
    "  npimg = img.numpy() # from tensor to np\n",
    "  plt.imshow(np.transpose(npimg, (1, 2, 0)))\n",
    "\n",
    "dataiter = iter(trainloader)\n",
    "images, labels = dataiter.next()\n",
    "\n",
    "imshow(torchvision.utils.make_grid(images))\n",
    "print([classes[i] for i in labels])"
   ]
  },
  {
   "cell_type": "markdown",
   "metadata": {
    "id": "tppcA4cCN9eG"
   },
   "source": [
    "## Training"
   ]
  },
  {
   "cell_type": "code",
   "execution_count": 11,
   "metadata": {
    "executionInfo": {
     "elapsed": 540,
     "status": "ok",
     "timestamp": 1669998113094,
     "user": {
      "displayName": "Parthik Bhandari",
      "userId": "10520118358423277181"
     },
     "user_tz": -330
    },
    "id": "pp95a39Qlc3M"
   },
   "outputs": [],
   "source": [
    "MODEL_NAME      = 'test2'\n",
    "LEARNING_RATE   = 0.001\n",
    "MOMENTUM        = 0.9\n",
    "EPOCHS          = 10\n",
    "WEIGHT_DECAY    = 0.0001\n",
    "NUM_CLASSES     = len(classes)\n",
    "\n",
    "\n",
    "model = Model(NUM_CLASSES).to(device)\n",
    "# loss_function = nn.CrossEntropyLoss() # Setting up Loss Function\n",
    "\n",
    "# # create optimizer\n",
    "# optimizer = optim.Adam(model.parameters(), lr=LEARNING_RATE, \n",
    "#                       #  momentum=MOMENTUM,\n",
    "#                         weight_decay=WEIGHT_DECAY)\n",
    "\n",
    "SAVED_MODEL_PATH = '/content/drive/MyDrive/ColabNotebooks/restart/cigarette_detector/saved_models/best_checkpoint_test2_epoch_5_testAcc0.78.model'\n",
    "model.load_state_dict(torch.load(SAVED_MODEL_PATH))\n",
    "\n",
    "best_accuracy = 0\n",
    "total_epoch = 0\n",
    "\n",
    "os.chdir('/content/drive/MyDrive/ColabNotebooks/restart/cigarette_detector/saved_models')"
   ]
  },
  {
   "cell_type": "code",
   "execution_count": 11,
   "metadata": {
    "colab": {
     "base_uri": "https://localhost:8080/"
    },
    "executionInfo": {
     "elapsed": 3035456,
     "status": "ok",
     "timestamp": 1669995175191,
     "user": {
      "displayName": "Parthik Bhandari",
      "userId": "10520118358423277181"
     },
     "user_tz": -330
    },
    "id": "ML8yjVH1lmkC",
    "outputId": "3d2edc17-934d-44ec-ff82-3c419c6d9494"
   },
   "outputs": [
    {
     "name": "stderr",
     "output_type": "stream",
     "text": [
      "/usr/local/lib/python3.8/dist-packages/PIL/Image.py:959: UserWarning: Palette images with Transparency expressed in bytes should be converted to RGBA images\n",
      "  warnings.warn(\n"
     ]
    },
    {
     "name": "stdout",
     "output_type": "stream",
     "text": [
      "\n",
      "  Epoch       : 1/10\n",
      "  Train Acc   : 0.7069359756097561\n",
      "  Train Loss  : 1.5514651536941528\n",
      "  Test Acc    : 0.6859375\n",
      "\n",
      "  \n",
      "\n",
      "  Epoch       : 2/10\n",
      "  Train Acc   : 0.8445121951219512\n",
      "  Train Loss  : 0.37316277623176575\n",
      "  Test Acc    : 0.721875\n",
      "\n",
      "  \n",
      "\n",
      "  Epoch       : 3/10\n",
      "  Train Acc   : 0.9104420731707317\n",
      "  Train Loss  : 0.23312336206436157\n",
      "  Test Acc    : 0.6953125\n",
      "\n",
      "  \n",
      "\n",
      "  Epoch       : 4/10\n",
      "  Train Acc   : 0.9165396341463414\n",
      "  Train Loss  : 0.2240820825099945\n",
      "  Test Acc    : 0.7328125\n",
      "\n",
      "  \n",
      "\n",
      "  Epoch       : 5/10\n",
      "  Train Acc   : 0.9447408536585366\n",
      "  Train Loss  : 0.146945983171463\n",
      "  Test Acc    : 0.78125\n",
      "\n",
      "  \n",
      "\n",
      "  Epoch       : 6/10\n",
      "  Train Acc   : 0.9649390243902439\n",
      "  Train Loss  : 0.09524937719106674\n",
      "  Test Acc    : 0.7109375\n",
      "\n",
      "  \n",
      "\n",
      "  Epoch       : 7/10\n",
      "  Train Acc   : 0.9828506097560976\n",
      "  Train Loss  : 0.05322066321969032\n",
      "  Test Acc    : 0.7109375\n",
      "\n",
      "  \n",
      "\n",
      "  Epoch       : 8/10\n",
      "  Train Acc   : 0.9889481707317073\n",
      "  Train Loss  : 0.037991974502801895\n",
      "  Test Acc    : 0.7\n",
      "\n",
      "  \n",
      "\n",
      "  Epoch       : 9/10\n",
      "  Train Acc   : 0.9782774390243902\n",
      "  Train Loss  : 0.07307213544845581\n",
      "  Test Acc    : 0.803125\n",
      "\n",
      "  \n",
      "\n",
      "  Epoch       : 10/10\n",
      "  Train Acc   : 0.9691310975609756\n",
      "  Train Loss  : 0.08255565166473389\n",
      "  Test Acc    : 0.7125\n",
      "\n",
      "  \n"
     ]
    }
   ],
   "source": [
    "for epoch in range(EPOCHS):\n",
    "  total_epoch += 1\n",
    "\n",
    "  # Evaluation and training on training dataset\n",
    "  model.train()\n",
    "  \n",
    "  train_accuracy = 0\n",
    "  train_loss = 0\n",
    "\n",
    "  for i, data in enumerate(trainloader):\n",
    "    images, labels = data\n",
    "\n",
    "    if torch.cuda.is_available():\n",
    "      images = Variable(images.cuda())\n",
    "      labels = Variable(labels.cuda())\n",
    "\n",
    "    optimizer.zero_grad()\n",
    "\n",
    "    outputs = model(images)\n",
    "    loss = loss_function(outputs, labels)\n",
    "    loss.backward() # Backpropogation\n",
    "    optimizer.step()# Update the weight and bias using the computed gradients\n",
    "\n",
    "    _, prediction = torch.max(outputs.data, 1)\n",
    "\n",
    "    train_accuracy += int(torch.sum(prediction==labels.data))\n",
    "    train_loss += loss.cpu().data*images.size(0)\n",
    "\n",
    "  train_accuracy = train_accuracy/train_size\n",
    "  train_loss     = train_loss/train_size\n",
    "\n",
    "  # Evaluation on testing dataset\n",
    "  model.eval()\n",
    "\n",
    "  test_accuracy=0\n",
    "  for i, (images, labels) in enumerate(testloader):\n",
    "    if torch.cuda.is_available():\n",
    "      images = Variable(images).to(device)\n",
    "      labels = Variable(labels).to(device)\n",
    "\n",
    "    output = model(images)\n",
    "    _, prediction = torch.max(output.data, 1)\n",
    "    test_accuracy += int(torch.sum(prediction==labels.data))\n",
    "  \n",
    "  test_accuracy = test_accuracy/test_size\n",
    "\n",
    "  print(f'''\n",
    "  Epoch       : {epoch+1}/{EPOCHS}\n",
    "  Train Acc   : {train_accuracy}\n",
    "  Train Loss  : {train_loss}\n",
    "  Test Acc    : {test_accuracy}\n",
    "\n",
    "  ''')\n",
    "\n",
    "  if test_accuracy>best_accuracy:\n",
    "    torch.save(model.state_dict(), f'best_checkpoint_{MODEL_NAME}_epoch_{total_epoch}_testAcc{round(test_accuracy, 2)}.model')\n",
    "    best_accuracy = test_accuracy\n"
   ]
  },
  {
   "cell_type": "code",
   "execution_count": 13,
   "metadata": {
    "colab": {
     "base_uri": "https://localhost:8080/"
    },
    "executionInfo": {
     "elapsed": 477545,
     "status": "ok",
     "timestamp": 1669998687247,
     "user": {
      "displayName": "Parthik Bhandari",
      "userId": "10520118358423277181"
     },
     "user_tz": -330
    },
    "id": "nH2CPh1KpUro",
    "outputId": "af8c2d52-6caa-4b23-b0cf-4a058b519aab"
   },
   "outputs": [
    {
     "data": {
      "text/plain": [
       "0.7796875"
      ]
     },
     "execution_count": 13,
     "metadata": {},
     "output_type": "execute_result"
    }
   ],
   "source": [
    "test_accuracy = 0\n",
    "for i, (images, labels) in enumerate(testloader):\n",
    "  if torch.cuda.is_available():\n",
    "    images = Variable(images).to(device)\n",
    "    labels = Variable(labels).to(device)\n",
    "\n",
    "  output = model(images)\n",
    "  _, prediction = torch.max(output.data, 1)\n",
    "  test_accuracy += int(torch.sum(prediction==labels.data))\n",
    "\n",
    "test_accuracy = test_accuracy/test_size\n",
    "test_accuracy"
   ]
  },
  {
   "cell_type": "code",
   "execution_count": null,
   "metadata": {
    "colab": {
     "base_uri": "https://localhost:8080/"
    },
    "executionInfo": {
     "elapsed": 931,
     "status": "ok",
     "timestamp": 1669734612572,
     "user": {
      "displayName": "Parthik Bhandari",
      "userId": "10520118358423277181"
     },
     "user_tz": -330
    },
    "id": "xRz8acOEsrk7",
    "outputId": "57781236-961f-4717-9cb7-47f349297bf8"
   },
   "outputs": [
    {
     "name": "stdout",
     "output_type": "stream",
     "text": [
      "Actual : ['truck', 'truck', 'truck', 'truck']\n"
     ]
    }
   ],
   "source": [
    "output = net(imgs)\n",
    "print('Actual :', [classes[i] for i in predicted])"
   ]
  },
  {
   "cell_type": "markdown",
   "metadata": {
    "id": "uqQMHWLYOQZ6"
   },
   "source": [
    "### Accuracy"
   ]
  },
  {
   "cell_type": "code",
   "execution_count": null,
   "metadata": {
    "colab": {
     "base_uri": "https://localhost:8080/"
    },
    "executionInfo": {
     "elapsed": 9258,
     "status": "ok",
     "timestamp": 1669751338296,
     "user": {
      "displayName": "Parthik Bhandari",
      "userId": "10520118358423277181"
     },
     "user_tz": -330
    },
    "id": "8NALio8MsrdR",
    "outputId": "9ef8fb0d-8717-4973-9f33-c637d99e0b39"
   },
   "outputs": [
    {
     "name": "stderr",
     "output_type": "stream",
     "text": [
      "100%|██████████| 2500/2500 [00:08<00:00, 285.76it/s]"
     ]
    },
    {
     "name": "stdout",
     "output_type": "stream",
     "text": [
      "\n",
      "Accuracy = 61.28%\n"
     ]
    },
    {
     "name": "stderr",
     "output_type": "stream",
     "text": [
      "\n"
     ]
    }
   ],
   "source": [
    "correct, total = 0, 0\n",
    "with torch.no_grad():\n",
    "  for data in tqdm(testloader):\n",
    "    imgs, labels = data\n",
    "    outputs = net(imgs)\n",
    "    _, predicted = torch.max(outputs, 1)\n",
    "    total += labels.size(0)\n",
    "    correct += (predicted == labels).sum().item()\n",
    "\n",
    "print(f'''\n",
    "Accuracy = {round((correct/total)*100, 2)}%''')"
   ]
  },
  {
   "cell_type": "code",
   "execution_count": null,
   "metadata": {},
   "outputs": [],
   "source": []
  },
  {
   "cell_type": "code",
   "execution_count": null,
   "metadata": {},
   "outputs": [],
   "source": []
  },
  {
   "cell_type": "code",
   "execution_count": null,
   "metadata": {},
   "outputs": [],
   "source": []
  }
 ],
 "metadata": {
  "accelerator": "GPU",
  "colab": {
   "authorship_tag": "ABX9TyNoW2nBqqh2RQkSbkI4pp2g",
   "mount_file_id": "1NYZWZ7BrAOqgMtxOhqS9a1Llk8JcOtIq",
   "provenance": []
  },
  "gpuClass": "standard",
  "kernelspec": {
   "display_name": "Python 3 (ipykernel)",
   "language": "python",
   "name": "python3"
  },
  "language_info": {
   "codemirror_mode": {
    "name": "ipython",
    "version": 3
   },
   "file_extension": ".py",
   "mimetype": "text/x-python",
   "name": "python",
   "nbconvert_exporter": "python",
   "pygments_lexer": "ipython3",
   "version": "3.9.13"
  },
  "widgets": {
   "application/vnd.jupyter.widget-state+json": {
    "115ba4eff32649dcbbea68bdb9981e25": {
     "model_module": "@jupyter-widgets/controls",
     "model_module_version": "1.5.0",
     "model_name": "FloatProgressModel",
     "state": {
      "_dom_classes": [],
      "_model_module": "@jupyter-widgets/controls",
      "_model_module_version": "1.5.0",
      "_model_name": "FloatProgressModel",
      "_view_count": null,
      "_view_module": "@jupyter-widgets/controls",
      "_view_module_version": "1.5.0",
      "_view_name": "ProgressView",
      "bar_style": "success",
      "description": "",
      "description_tooltip": null,
      "layout": "IPY_MODEL_798f8b61bcf44116864f8c6e0f029d5d",
      "max": 2,
      "min": 0,
      "orientation": "horizontal",
      "style": "IPY_MODEL_d74b483d77d74514816434522f48f8ad",
      "value": 2
     }
    },
    "134841603044453c8b9ae7e02bf3e0c4": {
     "model_module": "@jupyter-widgets/controls",
     "model_module_version": "1.5.0",
     "model_name": "HTMLModel",
     "state": {
      "_dom_classes": [],
      "_model_module": "@jupyter-widgets/controls",
      "_model_module_version": "1.5.0",
      "_model_name": "HTMLModel",
      "_view_count": null,
      "_view_module": "@jupyter-widgets/controls",
      "_view_module_version": "1.5.0",
      "_view_name": "HTMLView",
      "description": "",
      "description_tooltip": null,
      "layout": "IPY_MODEL_4849a34bd1d34d979a56f903b3dfbc09",
      "placeholder": "​",
      "style": "IPY_MODEL_973bf06eda574ffabdfd6698254fc1ae",
      "value": " 2/2 [02:04&lt;00:00, 62.54s/it]"
     }
    },
    "2379cd2459444d5e9aa687c221320878": {
     "model_module": "@jupyter-widgets/controls",
     "model_module_version": "1.5.0",
     "model_name": "HBoxModel",
     "state": {
      "_dom_classes": [],
      "_model_module": "@jupyter-widgets/controls",
      "_model_module_version": "1.5.0",
      "_model_name": "HBoxModel",
      "_view_count": null,
      "_view_module": "@jupyter-widgets/controls",
      "_view_module_version": "1.5.0",
      "_view_name": "HBoxView",
      "box_style": "",
      "children": [
       "IPY_MODEL_818f105119014b7f9dc985a8138e9bf2",
       "IPY_MODEL_115ba4eff32649dcbbea68bdb9981e25",
       "IPY_MODEL_134841603044453c8b9ae7e02bf3e0c4"
      ],
      "layout": "IPY_MODEL_69cf98014bee4098aaeba63cb29a7091"
     }
    },
    "4532b04eb04b497eaa87e1f56a74b0d1": {
     "model_module": "@jupyter-widgets/base",
     "model_module_version": "1.2.0",
     "model_name": "LayoutModel",
     "state": {
      "_model_module": "@jupyter-widgets/base",
      "_model_module_version": "1.2.0",
      "_model_name": "LayoutModel",
      "_view_count": null,
      "_view_module": "@jupyter-widgets/base",
      "_view_module_version": "1.2.0",
      "_view_name": "LayoutView",
      "align_content": null,
      "align_items": null,
      "align_self": null,
      "border": null,
      "bottom": null,
      "display": null,
      "flex": null,
      "flex_flow": null,
      "grid_area": null,
      "grid_auto_columns": null,
      "grid_auto_flow": null,
      "grid_auto_rows": null,
      "grid_column": null,
      "grid_gap": null,
      "grid_row": null,
      "grid_template_areas": null,
      "grid_template_columns": null,
      "grid_template_rows": null,
      "height": null,
      "justify_content": null,
      "justify_items": null,
      "left": null,
      "margin": null,
      "max_height": null,
      "max_width": null,
      "min_height": null,
      "min_width": null,
      "object_fit": null,
      "object_position": null,
      "order": null,
      "overflow": null,
      "overflow_x": null,
      "overflow_y": null,
      "padding": null,
      "right": null,
      "top": null,
      "visibility": null,
      "width": null
     }
    },
    "4849a34bd1d34d979a56f903b3dfbc09": {
     "model_module": "@jupyter-widgets/base",
     "model_module_version": "1.2.0",
     "model_name": "LayoutModel",
     "state": {
      "_model_module": "@jupyter-widgets/base",
      "_model_module_version": "1.2.0",
      "_model_name": "LayoutModel",
      "_view_count": null,
      "_view_module": "@jupyter-widgets/base",
      "_view_module_version": "1.2.0",
      "_view_name": "LayoutView",
      "align_content": null,
      "align_items": null,
      "align_self": null,
      "border": null,
      "bottom": null,
      "display": null,
      "flex": null,
      "flex_flow": null,
      "grid_area": null,
      "grid_auto_columns": null,
      "grid_auto_flow": null,
      "grid_auto_rows": null,
      "grid_column": null,
      "grid_gap": null,
      "grid_row": null,
      "grid_template_areas": null,
      "grid_template_columns": null,
      "grid_template_rows": null,
      "height": null,
      "justify_content": null,
      "justify_items": null,
      "left": null,
      "margin": null,
      "max_height": null,
      "max_width": null,
      "min_height": null,
      "min_width": null,
      "object_fit": null,
      "object_position": null,
      "order": null,
      "overflow": null,
      "overflow_x": null,
      "overflow_y": null,
      "padding": null,
      "right": null,
      "top": null,
      "visibility": null,
      "width": null
     }
    },
    "69cf98014bee4098aaeba63cb29a7091": {
     "model_module": "@jupyter-widgets/base",
     "model_module_version": "1.2.0",
     "model_name": "LayoutModel",
     "state": {
      "_model_module": "@jupyter-widgets/base",
      "_model_module_version": "1.2.0",
      "_model_name": "LayoutModel",
      "_view_count": null,
      "_view_module": "@jupyter-widgets/base",
      "_view_module_version": "1.2.0",
      "_view_name": "LayoutView",
      "align_content": null,
      "align_items": null,
      "align_self": null,
      "border": null,
      "bottom": null,
      "display": null,
      "flex": null,
      "flex_flow": null,
      "grid_area": null,
      "grid_auto_columns": null,
      "grid_auto_flow": null,
      "grid_auto_rows": null,
      "grid_column": null,
      "grid_gap": null,
      "grid_row": null,
      "grid_template_areas": null,
      "grid_template_columns": null,
      "grid_template_rows": null,
      "height": null,
      "justify_content": null,
      "justify_items": null,
      "left": null,
      "margin": null,
      "max_height": null,
      "max_width": null,
      "min_height": null,
      "min_width": null,
      "object_fit": null,
      "object_position": null,
      "order": null,
      "overflow": null,
      "overflow_x": null,
      "overflow_y": null,
      "padding": null,
      "right": null,
      "top": null,
      "visibility": null,
      "width": null
     }
    },
    "798f8b61bcf44116864f8c6e0f029d5d": {
     "model_module": "@jupyter-widgets/base",
     "model_module_version": "1.2.0",
     "model_name": "LayoutModel",
     "state": {
      "_model_module": "@jupyter-widgets/base",
      "_model_module_version": "1.2.0",
      "_model_name": "LayoutModel",
      "_view_count": null,
      "_view_module": "@jupyter-widgets/base",
      "_view_module_version": "1.2.0",
      "_view_name": "LayoutView",
      "align_content": null,
      "align_items": null,
      "align_self": null,
      "border": null,
      "bottom": null,
      "display": null,
      "flex": null,
      "flex_flow": null,
      "grid_area": null,
      "grid_auto_columns": null,
      "grid_auto_flow": null,
      "grid_auto_rows": null,
      "grid_column": null,
      "grid_gap": null,
      "grid_row": null,
      "grid_template_areas": null,
      "grid_template_columns": null,
      "grid_template_rows": null,
      "height": null,
      "justify_content": null,
      "justify_items": null,
      "left": null,
      "margin": null,
      "max_height": null,
      "max_width": null,
      "min_height": null,
      "min_width": null,
      "object_fit": null,
      "object_position": null,
      "order": null,
      "overflow": null,
      "overflow_x": null,
      "overflow_y": null,
      "padding": null,
      "right": null,
      "top": null,
      "visibility": null,
      "width": null
     }
    },
    "807f630b30f0465787266f1a05b39eab": {
     "model_module": "@jupyter-widgets/controls",
     "model_module_version": "1.5.0",
     "model_name": "DescriptionStyleModel",
     "state": {
      "_model_module": "@jupyter-widgets/controls",
      "_model_module_version": "1.5.0",
      "_model_name": "DescriptionStyleModel",
      "_view_count": null,
      "_view_module": "@jupyter-widgets/base",
      "_view_module_version": "1.2.0",
      "_view_name": "StyleView",
      "description_width": ""
     }
    },
    "818f105119014b7f9dc985a8138e9bf2": {
     "model_module": "@jupyter-widgets/controls",
     "model_module_version": "1.5.0",
     "model_name": "HTMLModel",
     "state": {
      "_dom_classes": [],
      "_model_module": "@jupyter-widgets/controls",
      "_model_module_version": "1.5.0",
      "_model_name": "HTMLModel",
      "_view_count": null,
      "_view_module": "@jupyter-widgets/controls",
      "_view_module_version": "1.5.0",
      "_view_name": "HTMLView",
      "description": "",
      "description_tooltip": null,
      "layout": "IPY_MODEL_4532b04eb04b497eaa87e1f56a74b0d1",
      "placeholder": "​",
      "style": "IPY_MODEL_807f630b30f0465787266f1a05b39eab",
      "value": "Epoch &gt; 2/2: 100%"
     }
    },
    "973bf06eda574ffabdfd6698254fc1ae": {
     "model_module": "@jupyter-widgets/controls",
     "model_module_version": "1.5.0",
     "model_name": "DescriptionStyleModel",
     "state": {
      "_model_module": "@jupyter-widgets/controls",
      "_model_module_version": "1.5.0",
      "_model_name": "DescriptionStyleModel",
      "_view_count": null,
      "_view_module": "@jupyter-widgets/base",
      "_view_module_version": "1.2.0",
      "_view_name": "StyleView",
      "description_width": ""
     }
    },
    "d74b483d77d74514816434522f48f8ad": {
     "model_module": "@jupyter-widgets/controls",
     "model_module_version": "1.5.0",
     "model_name": "ProgressStyleModel",
     "state": {
      "_model_module": "@jupyter-widgets/controls",
      "_model_module_version": "1.5.0",
      "_model_name": "ProgressStyleModel",
      "_view_count": null,
      "_view_module": "@jupyter-widgets/base",
      "_view_module_version": "1.2.0",
      "_view_name": "StyleView",
      "bar_color": null,
      "description_width": ""
     }
    }
   }
  }
 },
 "nbformat": 4,
 "nbformat_minor": 4
}
